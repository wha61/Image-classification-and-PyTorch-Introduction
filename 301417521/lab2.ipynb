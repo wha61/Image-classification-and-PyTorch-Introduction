{
  "cells": [
    {
      "cell_type": "markdown",
      "metadata": {
        "id": "wmCbxoDrADcF"
      },
      "source": [
        "# Google Colab setup with Google Drive folder\n",
        "\n",
        "This notebook provides the code you need to set up Google Colab to run and import files from within a Google Drive folder.\n",
        "\n",
        "This will allow you to upload assignment code to your Google Drive and then run the code on Google Colab machines (with free GPUs if needed).\n",
        "\n",
        "You will need to create a folder in your Google Drive to hold your assignments and you will need to open Colaboratory within this folder before running the set up code (check the link above to see how)."
      ]
    },
    {
      "cell_type": "markdown",
      "metadata": {
        "id": "zWhrmhqVCyGH"
      },
      "source": [
        "# Mount Google Drive\n",
        "\n",
        "This will allow the Colab machine to access Google Drive folders by mounting the drive on the machine. You will be asked to copy and paste an authentication code."
      ]
    },
    {
      "cell_type": "code",
      "execution_count": 1,
      "metadata": {
        "colab": {
          "base_uri": "https://localhost:8080/"
        },
        "id": "Wv2oKmF9AJtI",
        "outputId": "ce713812-dba0-45c4-af6f-9f74f00f39f8"
      },
      "outputs": [
        {
          "output_type": "stream",
          "name": "stdout",
          "text": [
            "Mounted at /content/gdrive/\n"
          ]
        }
      ],
      "source": [
        "from google.colab import drive\n",
        "drive.mount('/content/gdrive/')"
      ]
    },
    {
      "cell_type": "code",
      "execution_count": 2,
      "metadata": {
        "colab": {
          "base_uri": "https://localhost:8080/"
        },
        "id": "kKGxaMcmP_Et",
        "outputId": "076aa211-c8cc-4427-8491-996d5db4a91c"
      },
      "outputs": [
        {
          "output_type": "stream",
          "name": "stdout",
          "text": [
            "\u001b[0m\u001b[01;34mgdrive\u001b[0m/  \u001b[01;34msample_data\u001b[0m/\n"
          ]
        }
      ],
      "source": [
        "ls"
      ]
    },
    {
      "cell_type": "markdown",
      "metadata": {
        "id": "4Qs04PPwDOFy"
      },
      "source": [
        "# Change directory to allow imports\n",
        "\n",
        "\n",
        "As noted above, you should create a Google Drive folder to hold all your assignment files. You will need to add this code to the top of any python notebook you run to be able to import python files from your drive assignment folder (you should change the file path below to be your own assignment folder). Following the hand-out, you should have a directory \"SFU_CMPT_CV_lab2\" on g-drive, which should have a directory \"data\", which contains three tar.gz files."
      ]
    },
    {
      "cell_type": "code",
      "execution_count": 3,
      "metadata": {
        "id": "UA2-UyfpEc9O"
      },
      "outputs": [],
      "source": [
        "import os\n",
        "os.chdir(\"/content/gdrive/My Drive/SFU_CMPT_CV_lab2\")"
      ]
    },
    {
      "cell_type": "code",
      "execution_count": 4,
      "metadata": {
        "colab": {
          "base_uri": "https://localhost:8080/"
        },
        "id": "gyRCWAIyRHWc",
        "outputId": "8dd7b5ab-fe6d-4265-d8d6-9bb8ce6853b1"
      },
      "outputs": [
        {
          "output_type": "stream",
          "name": "stdout",
          "text": [
            "best_model.pth  \u001b[0m\u001b[01;34mdata\u001b[0m/  \u001b[01;34mFMix\u001b[0m/  lab2.ipynb  plot.png  submission_netid.csv\n"
          ]
        }
      ],
      "source": [
        "ls # Check if this is your folder"
      ]
    },
    {
      "cell_type": "markdown",
      "metadata": {
        "id": "SJOCaUMilRz_"
      },
      "source": [
        "# Copy data to local dir"
      ]
    },
    {
      "cell_type": "code",
      "execution_count": 5,
      "metadata": {
        "id": "90MxG_eRla0W"
      },
      "outputs": [],
      "source": [
        "!mkdir /data\n",
        "!cp data/cifar100.tar.gz /data/\n",
        "!tar -xf /data/cifar100.tar.gz -C /data/\n",
        "!cp data/test.tar.gz /data\n",
        "!tar -xf /data/test.tar.gz -C /data\n",
        "!cp data/train.tar.gz /data\n",
        "!tar -xf /data/train.tar.gz -C /data/"
      ]
    },
    {
      "cell_type": "code",
      "execution_count": 6,
      "metadata": {
        "colab": {
          "base_uri": "https://localhost:8080/"
        },
        "id": "XvFEFItpl98p",
        "outputId": "361708c6-7c29-48f4-fdc9-b939719bf8b9"
      },
      "outputs": [
        {
          "output_type": "stream",
          "name": "stdout",
          "text": [
            "\u001b[0m\u001b[01;34mcifar100\u001b[0m/  cifar100.tar.gz  \u001b[01;34mtest\u001b[0m/  test.tar.gz  \u001b[01;34mtrain\u001b[0m/  train.tar.gz\n"
          ]
        }
      ],
      "source": [
        "ls /data"
      ]
    },
    {
      "cell_type": "markdown",
      "metadata": {
        "id": "DDU5aVgR9QBx"
      },
      "source": [
        "# Set up GPU and PyTorch\n",
        "\n",
        "First, ensure that your notebook on Colaboratory is set up to use GPU. After opening the notebook on Colaboratory, go to Edit>Notebook settings, select Python 3 under \"Runtime type,\" select GPU under \"Hardware accelerator,\" and save.\n",
        "\n",
        "Next, install PyTorch:"
      ]
    },
    {
      "cell_type": "code",
      "execution_count": 7,
      "metadata": {
        "colab": {
          "base_uri": "https://localhost:8080/"
        },
        "id": "kjbQtzKT9Uc2",
        "outputId": "297d4776-57f7-4c00-b865-9abe73fd37d3"
      },
      "outputs": [
        {
          "output_type": "stream",
          "name": "stdout",
          "text": [
            "Requirement already satisfied: torch in /usr/local/lib/python3.10/dist-packages (2.0.1+cu118)\n",
            "Requirement already satisfied: torchvision in /usr/local/lib/python3.10/dist-packages (0.15.2+cu118)\n",
            "Requirement already satisfied: filelock in /usr/local/lib/python3.10/dist-packages (from torch) (3.12.4)\n",
            "Requirement already satisfied: typing-extensions in /usr/local/lib/python3.10/dist-packages (from torch) (4.5.0)\n",
            "Requirement already satisfied: sympy in /usr/local/lib/python3.10/dist-packages (from torch) (1.12)\n",
            "Requirement already satisfied: networkx in /usr/local/lib/python3.10/dist-packages (from torch) (3.1)\n",
            "Requirement already satisfied: jinja2 in /usr/local/lib/python3.10/dist-packages (from torch) (3.1.2)\n",
            "Requirement already satisfied: triton==2.0.0 in /usr/local/lib/python3.10/dist-packages (from torch) (2.0.0)\n",
            "Requirement already satisfied: cmake in /usr/local/lib/python3.10/dist-packages (from triton==2.0.0->torch) (3.27.6)\n",
            "Requirement already satisfied: lit in /usr/local/lib/python3.10/dist-packages (from triton==2.0.0->torch) (17.0.2)\n",
            "Requirement already satisfied: numpy in /usr/local/lib/python3.10/dist-packages (from torchvision) (1.23.5)\n",
            "Requirement already satisfied: requests in /usr/local/lib/python3.10/dist-packages (from torchvision) (2.31.0)\n",
            "Requirement already satisfied: pillow!=8.3.*,>=5.3.0 in /usr/local/lib/python3.10/dist-packages (from torchvision) (9.4.0)\n",
            "Requirement already satisfied: MarkupSafe>=2.0 in /usr/local/lib/python3.10/dist-packages (from jinja2->torch) (2.1.3)\n",
            "Requirement already satisfied: charset-normalizer<4,>=2 in /usr/local/lib/python3.10/dist-packages (from requests->torchvision) (3.3.0)\n",
            "Requirement already satisfied: idna<4,>=2.5 in /usr/local/lib/python3.10/dist-packages (from requests->torchvision) (3.4)\n",
            "Requirement already satisfied: urllib3<3,>=1.21.1 in /usr/local/lib/python3.10/dist-packages (from requests->torchvision) (2.0.6)\n",
            "Requirement already satisfied: certifi>=2017.4.17 in /usr/local/lib/python3.10/dist-packages (from requests->torchvision) (2023.7.22)\n",
            "Requirement already satisfied: mpmath>=0.19 in /usr/local/lib/python3.10/dist-packages (from sympy->torch) (1.3.0)\n"
          ]
        }
      ],
      "source": [
        "!pip3 install torch torchvision"
      ]
    },
    {
      "cell_type": "markdown",
      "metadata": {
        "id": "u_BekZYY9Vzx"
      },
      "source": [
        "Make sure that pytorch is installed and works with GPU:"
      ]
    },
    {
      "cell_type": "code",
      "execution_count": 8,
      "metadata": {
        "colab": {
          "base_uri": "https://localhost:8080/"
        },
        "id": "8TXSJWQa9efx",
        "outputId": "8295c525-8a3b-43fb-f91c-081281f73cd6"
      },
      "outputs": [
        {
          "output_type": "stream",
          "name": "stdout",
          "text": [
            "tensor([1.], device='cuda:0')\n"
          ]
        }
      ],
      "source": [
        "import torch\n",
        "a = torch.Tensor([1]).cuda()\n",
        "print(a)\n"
      ]
    },
    {
      "cell_type": "code",
      "execution_count": 9,
      "metadata": {
        "colab": {
          "base_uri": "https://localhost:8080/"
        },
        "id": "OEeRNsCjRXZK",
        "outputId": "066914c3-c1d8-49c6-bbc7-4d7a01f9a4cc"
      },
      "outputs": [
        {
          "output_type": "execute_result",
          "data": {
            "text/plain": [
              "True"
            ]
          },
          "metadata": {},
          "execution_count": 9
        }
      ],
      "source": [
        "torch.cuda.is_available()"
      ]
    },
    {
      "cell_type": "markdown",
      "metadata": {
        "id": "qChgLJERsvZP"
      },
      "source": [
        "# Part 1"
      ]
    },
    {
      "cell_type": "code",
      "execution_count": 10,
      "metadata": {
        "colab": {
          "base_uri": "https://localhost:8080/"
        },
        "id": "IlyCnvf6WzjR",
        "outputId": "0f9aead8-1690-4f26-d72d-8edfa9efd785"
      },
      "outputs": [
        {
          "output_type": "execute_result",
          "data": {
            "text/plain": [
              "<torch._C.Generator at 0x7a327666e750>"
            ]
          },
          "metadata": {},
          "execution_count": 10
        }
      ],
      "source": [
        "\"\"\"Headers\"\"\"\n",
        "\n",
        "from __future__ import print_function\n",
        "from PIL import Image\n",
        "import os\n",
        "import os.path\n",
        "import numpy as np\n",
        "import sys\n",
        "if sys.version_info[0] == 2:\n",
        "    import cPickle as pickle\n",
        "else:\n",
        "    import pickle\n",
        "\n",
        "import torch.utils.data as data\n",
        "from torchvision.datasets.utils import download_url, check_integrity\n",
        "\n",
        "import csv\n",
        "%matplotlib inline\n",
        "import matplotlib\n",
        "import matplotlib.pyplot as plt\n",
        "import numpy as np\n",
        "import os.path\n",
        "import sys\n",
        "import torch\n",
        "import torch.utils.data\n",
        "import torchvision\n",
        "import torchvision.transforms as transforms\n",
        "\n",
        "from torch.autograd import Variable\n",
        "import torch.nn as nn\n",
        "import torch.nn.functional as F\n",
        "\n",
        "from torch.optim.lr_scheduler import StepLR\n",
        "\n",
        "np.random.seed(111)\n",
        "torch.cuda.manual_seed_all(111)\n",
        "torch.manual_seed(111)\n",
        "\n",
        "# from FMIX.fmix import sample_and_apply, sample_mask"
      ]
    },
    {
      "cell_type": "markdown",
      "metadata": {
        "id": "137GhZMrcTuj"
      },
      "source": [
        "\n",
        "\n",
        "## **Just execute the cell below. This is the dataloader. DO NOT CHANGE ANYTHING IN HERE!**\n"
      ]
    },
    {
      "cell_type": "code",
      "execution_count": 11,
      "metadata": {
        "id": "URUH4fzzWqKr"
      },
      "outputs": [],
      "source": [
        "\"\"\"\"\"\"\n",
        "\n",
        "class CIFAR10_SFU_CV(data.Dataset):\n",
        "    \"\"\"`CIFAR10 <https://www.cs.toronto.edu/~kriz/cifar.html>`_ Dataset.\n",
        "\n",
        "    Args:\n",
        "        root (string): Root directory of dataset where directory\n",
        "            ``cifar-10-batches-py`` exists or will be saved to if download is set to True.\n",
        "        train (bool, optional): If True, creates dataset from training set, otherwise\n",
        "            creates from test set.\n",
        "        transform (callable, optional): A function/transform that  takes in an PIL image\n",
        "            and returns a transformed version. E.g, ``transforms.RandomCrop``\n",
        "        target_transform (callable, optional): A function/transform that takes in the\n",
        "            target and transforms it.\n",
        "        download (bool, optional): If true, downloads the dataset from the internet and\n",
        "            puts it in root directory. If dataset is already downloaded, it is not\n",
        "            downloaded again.\n",
        "\n",
        "    \"\"\"\n",
        "    base_folder = 'cifar100'\n",
        "    url = \"https://www.cs.toronto.edu/~kriz/cifar-10-python.tar.gz\"\n",
        "    filename = \"cifar100.tar.gz\"\n",
        "    tgz_md5 = 'c58f30108f718f92721af3b95e74349a'\n",
        "    train_list = [\n",
        "        ['data_batch_1', 'c99cafc152244af753f735de768cd75f'],\n",
        "        ['data_batch_2', 'd4bba439e000b95fd0a9bffe97cbabec'],\n",
        "        ['data_batch_3', '54ebc095f3ab1f0389bbae665268c751'],\n",
        "        ['data_batch_4', '634d18415352ddfa80567beed471001a'],\n",
        "        ['data_batch_5', '482c414d41f54cd18b22e5b47cb7c3cb'],\n",
        "    ]\n",
        "\n",
        "    test_list = [\n",
        "        ['test_batch', '40351d587109b95175f43aff81a1287e'],\n",
        "    ]\n",
        "\n",
        "    def __init__(self, root, fold=\"train\",\n",
        "                 transform=None, target_transform=None,\n",
        "                 download=False):\n",
        "\n",
        "        fold = fold.lower()\n",
        "\n",
        "        self.train = False\n",
        "        self.test = False\n",
        "        self.val = False\n",
        "\n",
        "        if fold == \"train\":\n",
        "            self.train = True\n",
        "        elif fold == \"test\":\n",
        "            self.test = True\n",
        "        elif fold == \"val\":\n",
        "            self.val = True\n",
        "        else:\n",
        "            raise RuntimeError(\"Not train-val-test\")\n",
        "\n",
        "\n",
        "        self.root = os.path.expanduser(root)\n",
        "        self.transform = transform\n",
        "        self.target_transform = target_transform\n",
        "\n",
        "        fpath = os.path.join(root, self.filename)\n",
        "        if not self._check_integrity():\n",
        "            raise RuntimeError('Dataset not found or corrupted.' +\n",
        "                               ' Download it and extract the file again.')\n",
        "\n",
        "        # now load the picked numpy arrays\n",
        "        if self.train or self.val:\n",
        "            self.train_data = []\n",
        "            self.train_labels = []\n",
        "            for fentry in self.train_list:\n",
        "                f = fentry[0]\n",
        "                file = os.path.join(self.root, self.base_folder, f)\n",
        "                fo = open(file, 'rb')\n",
        "                if sys.version_info[0] == 2:\n",
        "                    entry = pickle.load(fo)\n",
        "                else:\n",
        "                    entry = pickle.load(fo, encoding='latin1')\n",
        "                self.train_data.append(entry['data'])\n",
        "                if 'labels' in entry:\n",
        "                    self.train_labels += entry['labels']\n",
        "                else:\n",
        "                    self.train_labels += entry['fine_labels']\n",
        "                fo.close()\n",
        "\n",
        "            self.train_data = np.concatenate(self.train_data)\n",
        "            self.train_data = self.train_data.reshape((50000, 3, 32, 32))\n",
        "            self.train_data = self.train_data.transpose((0, 2, 3, 1))  # convert to HWC\n",
        "\n",
        "            p = np.arange(0,50000,10)\n",
        "            mask_train = np.ones((50000,), dtype=bool)\n",
        "            mask_train[p] = False\n",
        "            mask_val = np.zeros((50000,), dtype=bool)\n",
        "            mask_val[p] = True\n",
        "\n",
        "            copy_all_data = np.array(self.train_data)\n",
        "            self.val_data = np.array(copy_all_data[mask_val])\n",
        "            self.train_data = np.array(copy_all_data[mask_train])\n",
        "\n",
        "            copy_all_labels = np.array(self.train_labels)\n",
        "            self.val_labels = np.array(copy_all_labels[mask_val])\n",
        "            self.train_labels = np.array(copy_all_labels[mask_train])\n",
        "\n",
        "        elif self.test:\n",
        "            f = self.test_list[0][0]\n",
        "            file = os.path.join(self.root, self.base_folder, f)\n",
        "            fo = open(file, 'rb')\n",
        "            if sys.version_info[0] == 2:\n",
        "                entry = pickle.load(fo)\n",
        "            else:\n",
        "                entry = pickle.load(fo, encoding='latin1')\n",
        "            self.test_data = entry['data']\n",
        "\n",
        "            if 'labels' in entry:\n",
        "                self.test_labels = entry['labels']\n",
        "            else:\n",
        "                self.test_labels = entry['fine_labels']\n",
        "            fo.close()\n",
        "            self.test_data = self.test_data.reshape((10000, 3, 32, 32))\n",
        "            self.test_data = self.test_data.transpose((0, 2, 3, 1))  # convert to HWC\n",
        "\n",
        "    def __getitem__(self, index):\n",
        "        \"\"\"\n",
        "        Args:\n",
        "            index (int): Index\n",
        "\n",
        "        Returns:\n",
        "            tuple: (image, target) where target is index of the target class.\n",
        "        \"\"\"\n",
        "        if self.train:\n",
        "            img, target = self.train_data[index], self.train_labels[index]\n",
        "        elif self.test:\n",
        "            img, target = self.test_data[index], self.test_labels[index]\n",
        "        elif self.val:\n",
        "            img, target = self.val_data[index], self.val_labels[index]\n",
        "\n",
        "        # doing this so that it is consistent with all other datasets\n",
        "        # to return a PIL Image\n",
        "        img = Image.fromarray(img)\n",
        "\n",
        "        if self.transform is not None:\n",
        "            img = self.transform(img)\n",
        "\n",
        "        if self.target_transform is not None:\n",
        "            target = self.target_transform(target)\n",
        "\n",
        "        return img, target\n",
        "\n",
        "    def __len__(self):\n",
        "        if self.train:\n",
        "            return len(self.train_data)\n",
        "        elif self.test:\n",
        "            return len(self.test_data)\n",
        "        elif self.val:\n",
        "            return len(self.val_data)\n",
        "\n",
        "    def _check_integrity(self):\n",
        "        root = self.root\n",
        "        for fentry in (self.train_list + self.test_list):\n",
        "            filename, md5 = fentry[0], fentry[1]\n",
        "            fpath = os.path.join(root, self.base_folder, filename)\n",
        "            if not check_integrity(fpath, md5):\n",
        "                return False\n",
        "        return True\n",
        "\n",
        "    def __repr__(self):\n",
        "        fmt_str = 'Dataset ' + self.__class__.__name__ + '\\n'\n",
        "        fmt_str += '    Number of datapoints: {}\\n'.format(self.__len__())\n",
        "        tmp = 'train' if self.train is True else 'test'\n",
        "        fmt_str += '    Split: {}\\n'.format(tmp)\n",
        "        fmt_str += '    Root Location: {}\\n'.format(self.root)\n",
        "        tmp = '    Transforms (if any): '\n",
        "        fmt_str += '{0}{1}\\n'.format(tmp, self.transform.__repr__().replace('\\n', '\\n' + ' ' * len(tmp)))\n",
        "        tmp = '    Target Transforms (if any): '\n",
        "        fmt_str += '{0}{1}'.format(tmp, self.target_transform.__repr__().replace('\\n', '\\n' + ' ' * len(tmp)))\n",
        "        return fmt_str\n",
        "\n",
        "\n",
        "class CIFAR100_SFU_CV(CIFAR10_SFU_CV):\n",
        "    \"\"\"`CIFAR100 <https://www.cs.toronto.edu/~kriz/cifar.html>`_ Dataset.\n",
        "\n",
        "    This is a subclass of the `CIFAR10` Dataset.\n",
        "    \"\"\"\n",
        "    base_folder = 'cifar100'\n",
        "    filename = \"cifar100.tar.gz\"\n",
        "    tgz_md5 = 'e68a4c763591787a0b39fe2209371f32'\n",
        "    train_list = [\n",
        "        ['train_cs543', '49eee854445c1e2ebe796cd93c20bb0f'],\n",
        "    ]\n",
        "\n",
        "    test_list = [\n",
        "        ['test_cs543', 'd3fe9f6a9251bd443f428f896d27384f'],\n",
        "    ]"
      ]
    },
    {
      "cell_type": "markdown",
      "metadata": {
        "id": "JpFMv7HtcII4"
      },
      "source": [
        "This file has been adapted from the easy-to-use tutorial released by PyTorch:\n",
        "http://pytorch.org/tutorials/beginner/blitz/cifar10_tutorial.html\n",
        "\n",
        "Training an image classifier\n",
        "----------------------------\n",
        "\n",
        "We will do the following steps in order:\n",
        "\n",
        "1. Load the CIFAR100_SFU_CV training, validation and test datasets using\n",
        "   torchvision. Use torchvision.transforms to apply transforms on the\n",
        "   dataset.\n",
        "2. Define a Convolution Neural Network - BaseNet\n",
        "3. Define a loss function and optimizer\n",
        "4. Train the network on training data and check performance on val set.\n",
        "   Plot train loss and validation accuracies.\n",
        "5. Try the network on test data and create .csv file for submission to kaggle"
      ]
    },
    {
      "cell_type": "code",
      "execution_count": 12,
      "metadata": {
        "id": "Ld6juH34dWWq"
      },
      "outputs": [],
      "source": [
        "# <<TODO#5>> Based on the val set performance, decide how many\n",
        "# epochs are apt for your model.\n",
        "# ---------\n",
        "EPOCHS = 200\n",
        "# ---------\n",
        "\n",
        "IS_GPU = True\n",
        "TEST_BS = 256\n",
        "TOTAL_CLASSES = 100\n",
        "TRAIN_BS = 32\n",
        "PATH_TO_CIFAR100_SFU_CV = \"/data/\""
      ]
    },
    {
      "cell_type": "code",
      "execution_count": 13,
      "metadata": {
        "colab": {
          "base_uri": "https://localhost:8080/"
        },
        "id": "0ENlTTMi-qFD",
        "outputId": "cdf2f65a-a7fd-4c4f-912e-fa1ba7202e76"
      },
      "outputs": [
        {
          "output_type": "stream",
          "name": "stdout",
          "text": [
            "test_cs543  train_cs543\n"
          ]
        }
      ],
      "source": [
        "ls /data/cifar100/"
      ]
    },
    {
      "cell_type": "code",
      "source": [
        "\n",
        "def calculate_val_accuracy(valloader, is_gpu):\n",
        "  \"\"\" Util function to calculate val set accuracy,\n",
        "  both overall and per class accuracy\n",
        "  Args:\n",
        "  valloader (torch.utils.data.DataLoader): val set\n",
        "  is_gpu (bool): whether to run on GPU\n",
        "  Returns:\n",
        "  tuple: (overall accuracy, class level accuracy)\n",
        "  \"\"\"\n",
        "  correct = 0.\n",
        "  total = 0.\n",
        "  predictions = []\n",
        "\n",
        "  class_correct = list(0. for i in range(TOTAL_CLASSES))\n",
        "  class_total = list(0. for i in range(TOTAL_CLASSES))\n",
        "\n",
        "  for data in valloader:\n",
        "    images, labels = data\n",
        "    if is_gpu:\n",
        "      images = images.cuda()\n",
        "      labels = labels.cuda()\n",
        "    outputs = net(Variable(images))\n",
        "    _, predicted = torch.max(outputs.data, 1)\n",
        "    predictions.extend(list(predicted.cpu().numpy()))\n",
        "    total += labels.size(0)\n",
        "    # The following line reported an error for some students. Put a new version.\n",
        "    # correct += (predicted == labels).sum()\n",
        "    correct += torch.sum(predicted == labels).detach().cpu().numpy()\n",
        "\n",
        "    # The following line reported an error for some students. Put a new version.\n",
        "    # c = (predicted == labels).squeeze()\n",
        "    c = torch.squeeze(predicted == labels).detach().cpu().numpy()\n",
        "    # Added for a fix.\n",
        "    # c = c.cpu()\n",
        "    for i in range(len(labels)):\n",
        "      label = labels[i]\n",
        "      class_correct[label] += c[i]\n",
        "      class_total[label] += 1\n",
        "\n",
        "  class_accuracy = 100 * np.divide(class_correct, class_total)\n",
        "  return 100*correct/total, class_accuracy\n"
      ],
      "metadata": {
        "id": "MoENtMsktfm8"
      },
      "execution_count": 14,
      "outputs": []
    },
    {
      "cell_type": "markdown",
      "metadata": {
        "id": "aq2qOUaJeAWJ"
      },
      "source": [
        "1.** Loading CIFAR100_SFU_CV**\n",
        "\n",
        "We modify the dataset to create CIFAR100_SFU_CV dataset which consist of 45000 training images (450 of each class), 5000 validation images (50 of each class) and 10000 test images (100 of each class). The train and val datasets have labels while all the labels in the test set are set to 0.\n"
      ]
    },
    {
      "cell_type": "code",
      "source": [
        "train = CIFAR100_SFU_CV(root=PATH_TO_CIFAR100_SFU_CV, fold=\"train\", download=True, transform=transforms.ToTensor())\n",
        "val = CIFAR100_SFU_CV(root=PATH_TO_CIFAR100_SFU_CV, fold=\"val\", download=True, transform=transforms.ToTensor())\n",
        "test = CIFAR100_SFU_CV(root=PATH_TO_CIFAR100_SFU_CV, fold=\"test\", download=True, transform=transforms.ToTensor())\n",
        "\n",
        "combined = torch.utils.data.ConcatDataset([train, val, test])\n",
        "\n",
        "imgs = [item[0] for item in combined]\n",
        "imgs = torch.stack(imgs, dim=0).numpy()\n",
        "\n",
        "# calculate mean\n",
        "print(\"Mean \\t\", imgs[:,0,:,:].mean(), imgs[:,1,:,:].mean(), imgs[:,2,:,:].mean())\n",
        "\n",
        "# calculate std\n",
        "print(\"STD:\\t\", imgs[:,0,:,:].std(), imgs[:,1,:,:].std(), imgs[:,2,:,:].std())"
      ],
      "metadata": {
        "colab": {
          "base_uri": "https://localhost:8080/"
        },
        "id": "mKP63KExCMGo",
        "outputId": "91ceb922-385c-45d2-f16d-2b4b6aeceb84"
      },
      "execution_count": 15,
      "outputs": [
        {
          "output_type": "stream",
          "name": "stdout",
          "text": [
            "Mean \t 0.5073615 0.48668912 0.4410893\n",
            "STD:\t 0.26748818 0.2565931 0.27630857\n"
          ]
        }
      ]
    },
    {
      "cell_type": "code",
      "source": [
        "\n",
        "# The output of torchvision datasets are PILImage images of range [0, 1].\n",
        "# Using transforms.ToTensor(), transform them to Tensors of normalized range\n",
        "# [-1, 1].\n",
        "\n",
        "\n",
        "# <<TODO#1>> Use transforms.Normalize() with the right parameters to\n",
        "# make the data well conditioned (zero mean, std dev=1) for improved training.\n",
        "# <<TODO#2>> Try using transforms.RandomCrop() and/or transforms.RandomHorizontalFlip()\n",
        "# to augment training data.\n",
        "# After your edits, make sure that test_transform should have the same data\n",
        "# normalization parameters as train_transform\n",
        "# You shouldn't have any data augmentation in test_transform (val or test data is never augmented).\n",
        "# ---------------------\n",
        "\n",
        "train_transform = transforms.Compose([\n",
        "\n",
        "    transforms.ToTensor(),\n",
        "    transforms.Normalize(mean=[0.5073615, 0.48668912, 0.4410893],\n",
        "                          std=[0.26748818, 0.2565931, 0.27630857]),\n",
        "    transforms.RandomCrop(32, padding=4),\n",
        "    transforms.RandomHorizontalFlip()\n",
        "])\n",
        "\n",
        "# For test/validation data:\n",
        "# First, we convert the image to a tensor.\n",
        "# Lastly, we normalize the data (no augmentation for test/validation data).\n",
        "test_transform = transforms.Compose([\n",
        "    transforms.ToTensor(),\n",
        "    transforms.Normalize(mean=[0.5073615, 0.48668912, 0.4410893],\n",
        "                          std=[0.26748818, 0.2565931, 0.27630857])\n",
        "])\n",
        "\n",
        "# ---------------------\n",
        "\n",
        "trainset = CIFAR100_SFU_CV(root=PATH_TO_CIFAR100_SFU_CV, fold=\"train\",\n",
        "                                        download=True, transform=train_transform)\n",
        "trainloader = torch.utils.data.DataLoader(trainset, batch_size=TRAIN_BS,\n",
        "                                          shuffle=True, num_workers=0)\n",
        "print(\"Train set size: \"+str(len(trainset)))\n",
        "\n",
        "valset = CIFAR100_SFU_CV(root=PATH_TO_CIFAR100_SFU_CV, fold=\"val\",\n",
        "                                       download=True, transform=test_transform)\n",
        "valloader = torch.utils.data.DataLoader(valset, batch_size=TEST_BS,\n",
        "                                         shuffle=False, num_workers=0)\n",
        "print(\"Val set size: \"+str(len(valset)))\n",
        "\n",
        "testset = CIFAR100_SFU_CV(root=PATH_TO_CIFAR100_SFU_CV, fold=\"test\",\n",
        "                                       download=True, transform=test_transform)\n",
        "testloader = torch.utils.data.DataLoader(testset, batch_size=TEST_BS,\n",
        "                                         shuffle=False, num_workers=0)\n",
        "print(\"Test set size: \"+str(len(testset)))\n",
        "\n",
        "# The 100 classes for CIFAR100\n",
        "classes = ['apple', 'aquarium_fish', 'baby', 'bear', 'beaver', 'bed', 'bee', 'beetle', 'bicycle', 'bottle', 'bowl', 'boy', 'bridge', 'bus', 'butterfly', 'camel', 'can', 'castle', 'caterpillar', 'cattle', 'chair', 'chimpanzee', 'clock', 'cloud', 'cockroach', 'couch', 'crab', 'crocodile', 'cup', 'dinosaur', 'dolphin', 'elephant', 'flatfish', 'forest', 'fox', 'girl', 'hamster', 'house', 'kangaroo', 'keyboard', 'lamp', 'lawn_mower', 'leopard', 'lion', 'lizard', 'lobster', 'man', 'maple_tree', 'motorcycle', 'mountain', 'mouse', 'mushroom', 'oak_tree', 'orange', 'orchid', 'otter', 'palm_tree', 'pear', 'pickup_truck', 'pine_tree', 'plain', 'plate', 'poppy', 'porcupine', 'possum', 'rabbit', 'raccoon', 'ray', 'road', 'rocket', 'rose', 'sea', 'seal', 'shark', 'shrew', 'skunk', 'skyscraper', 'snail', 'snake', 'spider', 'squirrel', 'streetcar', 'sunflower', 'sweet_pepper', 'table', 'tank', 'telephone', 'television', 'tiger', 'tractor', 'train', 'trout', 'tulip', 'turtle', 'wardrobe', 'whale', 'willow_tree', 'wolf', 'woman', 'worm']\n",
        "\n"
      ],
      "metadata": {
        "colab": {
          "base_uri": "https://localhost:8080/"
        },
        "id": "tELsTcd8Cfvs",
        "outputId": "1da8a343-4477-4219-882f-1f249a277118"
      },
      "execution_count": 16,
      "outputs": [
        {
          "output_type": "stream",
          "name": "stdout",
          "text": [
            "Train set size: 45000\n",
            "Val set size: 5000\n",
            "Test set size: 10000\n"
          ]
        }
      ]
    },
    {
      "cell_type": "code",
      "source": [
        "\n",
        "########################################################################\n",
        "# 2. Define a Convolution Neural Network\n",
        "# ^^^^^^^^^^^^^^^^^^^^^^^^^^^^^^^^^^^^^^\n",
        "# We provide a basic network that you should understand, run and\n",
        "# eventually improve\n",
        "# <<TODO>> Add more conv layers\n",
        "# <<TODO>> Add more fully connected (fc) layers\n",
        "# <<TODO>> Add regularization layers like Batchnorm.\n",
        "#          nn.BatchNorm2d after conv layers:\n",
        "#          http://pytorch.org/docs/master/nn.html#batchnorm2d\n",
        "#          nn.BatchNorm1d after fc layers:\n",
        "#          http://pytorch.org/docs/master/nn.html#batchnorm1d\n",
        "# This is a good resource for developing a CNN for classification:\n",
        "# http://cs231n.github.io/convolutional-networks/#layers\n",
        "\n",
        "import torch.nn as nn\n",
        "import torch.nn.functional as F\n",
        "\n",
        "class ResidualBlock(nn.Module):\n",
        "    def __init__(self, in_channels, out_channels, stride=1, dropout_prob=0):\n",
        "        super(ResidualBlock, self).__init__()\n",
        "\n",
        "        self.conv1 = nn.Conv2d(in_channels, out_channels, kernel_size=3, stride=stride, padding=1, bias=False)\n",
        "        self.bn1 = nn.BatchNorm2d(out_channels)\n",
        "        self.dropout1 = nn.Dropout(dropout_prob)\n",
        "\n",
        "        self.conv2 = nn.Conv2d(out_channels, out_channels, kernel_size=3, stride=1, padding=1, bias=False)\n",
        "        self.bn2 = nn.BatchNorm2d(out_channels)\n",
        "        self.dropout2 = nn.Dropout(dropout_prob)\n",
        "\n",
        "        self.shortcut = nn.Sequential()\n",
        "        if stride != 1 or in_channels != out_channels:\n",
        "            self.shortcut = nn.Sequential(\n",
        "                nn.Conv2d(in_channels, out_channels, kernel_size=1, stride=stride, bias=False),\n",
        "                nn.BatchNorm2d(out_channels)\n",
        "            )\n",
        "\n",
        "    def forward(self, x):\n",
        "        out = F.relu(self.dropout1(self.bn1(self.conv1(x))))\n",
        "        out = self.dropout2(self.bn2(self.conv2(out)))\n",
        "        out += self.shortcut(x)  # This is the skip connection\n",
        "        out = F.relu(out)\n",
        "        return out\n",
        "\n",
        "\n",
        "class BaseNet(nn.Module):\n",
        "    def __init__(self):\n",
        "        super(BaseNet, self).__init__()\n",
        "\n",
        "        self.conv1 = nn.Conv2d(3, 64, kernel_size=3, stride=1, padding=1, bias=False) # Increased from 32 to 64 channels\n",
        "        self.bn1 = nn.BatchNorm2d(64)\n",
        "\n",
        "        # Increase depth by stacking more residual blocks\n",
        "        self.block1 = nn.Sequential(\n",
        "            ResidualBlock(64, 128, stride=2),\n",
        "            ResidualBlock(128, 128)  # New block with same size\n",
        "        )\n",
        "\n",
        "        self.block2 = nn.Sequential(\n",
        "            ResidualBlock(128, 256, stride=2),\n",
        "            ResidualBlock(256, 256)  # New block with same size\n",
        "        )\n",
        "\n",
        "        self.block3 = nn.Sequential(\n",
        "            ResidualBlock(256, 512, stride=2),\n",
        "            ResidualBlock(512, 512)  # New block with same size\n",
        "        )\n",
        "\n",
        "        # Adjusted input features of the FC layer due to increased channels\n",
        "        self.fc_net = nn.Sequential(\n",
        "            nn.Linear(512*4*4, 1024),   # Increased to 1024 neurons\n",
        "            nn.Dropout(0),\n",
        "            nn.BatchNorm1d(1024),\n",
        "            nn.ReLU(inplace=True),\n",
        "            nn.Linear(1024, 512),      # Increased to 512 neurons\n",
        "            nn.Dropout(0),\n",
        "            nn.BatchNorm1d(512),\n",
        "            nn.ReLU(inplace=True),\n",
        "            nn.Linear(512, TOTAL_CLASSES)\n",
        "        )\n",
        "\n",
        "\n",
        "\n",
        "    def forward(self, x):\n",
        "        out = F.relu(self.bn1(self.conv1(x)))\n",
        "        out = self.block1(out)\n",
        "        out = self.block2(out)\n",
        "        out = self.block3(out)\n",
        "        out = out.view(out.size(0), -1)  # Flatten\n",
        "        out = self.fc_net(out)\n",
        "        return out\n",
        "\n",
        "# Create an instance of the nn.module class defined above:\n",
        "net = BaseNet()\n",
        "\n",
        "# For training on GPU, we need to transfer net and data onto the GPU\n",
        "# http://pytorch.org/tutorials/beginner/blitz/cifar10_tutorial.html#training-on-gpu\n",
        "if IS_GPU:\n",
        "    net = net.cuda()\n",
        "\n",
        "from torchsummary import summary\n",
        "\n",
        "summary(net, (3, 32, 32))"
      ],
      "metadata": {
        "id": "DA_E8hKetzE5",
        "colab": {
          "base_uri": "https://localhost:8080/"
        },
        "outputId": "62c010a9-02e0-443e-8009-9abf8b2e6719"
      },
      "execution_count": 17,
      "outputs": [
        {
          "output_type": "stream",
          "name": "stdout",
          "text": [
            "----------------------------------------------------------------\n",
            "        Layer (type)               Output Shape         Param #\n",
            "================================================================\n",
            "            Conv2d-1           [-1, 64, 32, 32]           1,728\n",
            "       BatchNorm2d-2           [-1, 64, 32, 32]             128\n",
            "            Conv2d-3          [-1, 128, 16, 16]          73,728\n",
            "       BatchNorm2d-4          [-1, 128, 16, 16]             256\n",
            "           Dropout-5          [-1, 128, 16, 16]               0\n",
            "            Conv2d-6          [-1, 128, 16, 16]         147,456\n",
            "       BatchNorm2d-7          [-1, 128, 16, 16]             256\n",
            "           Dropout-8          [-1, 128, 16, 16]               0\n",
            "            Conv2d-9          [-1, 128, 16, 16]           8,192\n",
            "      BatchNorm2d-10          [-1, 128, 16, 16]             256\n",
            "    ResidualBlock-11          [-1, 128, 16, 16]               0\n",
            "           Conv2d-12          [-1, 128, 16, 16]         147,456\n",
            "      BatchNorm2d-13          [-1, 128, 16, 16]             256\n",
            "          Dropout-14          [-1, 128, 16, 16]               0\n",
            "           Conv2d-15          [-1, 128, 16, 16]         147,456\n",
            "      BatchNorm2d-16          [-1, 128, 16, 16]             256\n",
            "          Dropout-17          [-1, 128, 16, 16]               0\n",
            "    ResidualBlock-18          [-1, 128, 16, 16]               0\n",
            "           Conv2d-19            [-1, 256, 8, 8]         294,912\n",
            "      BatchNorm2d-20            [-1, 256, 8, 8]             512\n",
            "          Dropout-21            [-1, 256, 8, 8]               0\n",
            "           Conv2d-22            [-1, 256, 8, 8]         589,824\n",
            "      BatchNorm2d-23            [-1, 256, 8, 8]             512\n",
            "          Dropout-24            [-1, 256, 8, 8]               0\n",
            "           Conv2d-25            [-1, 256, 8, 8]          32,768\n",
            "      BatchNorm2d-26            [-1, 256, 8, 8]             512\n",
            "    ResidualBlock-27            [-1, 256, 8, 8]               0\n",
            "           Conv2d-28            [-1, 256, 8, 8]         589,824\n",
            "      BatchNorm2d-29            [-1, 256, 8, 8]             512\n",
            "          Dropout-30            [-1, 256, 8, 8]               0\n",
            "           Conv2d-31            [-1, 256, 8, 8]         589,824\n",
            "      BatchNorm2d-32            [-1, 256, 8, 8]             512\n",
            "          Dropout-33            [-1, 256, 8, 8]               0\n",
            "    ResidualBlock-34            [-1, 256, 8, 8]               0\n",
            "           Conv2d-35            [-1, 512, 4, 4]       1,179,648\n",
            "      BatchNorm2d-36            [-1, 512, 4, 4]           1,024\n",
            "          Dropout-37            [-1, 512, 4, 4]               0\n",
            "           Conv2d-38            [-1, 512, 4, 4]       2,359,296\n",
            "      BatchNorm2d-39            [-1, 512, 4, 4]           1,024\n",
            "          Dropout-40            [-1, 512, 4, 4]               0\n",
            "           Conv2d-41            [-1, 512, 4, 4]         131,072\n",
            "      BatchNorm2d-42            [-1, 512, 4, 4]           1,024\n",
            "    ResidualBlock-43            [-1, 512, 4, 4]               0\n",
            "           Conv2d-44            [-1, 512, 4, 4]       2,359,296\n",
            "      BatchNorm2d-45            [-1, 512, 4, 4]           1,024\n",
            "          Dropout-46            [-1, 512, 4, 4]               0\n",
            "           Conv2d-47            [-1, 512, 4, 4]       2,359,296\n",
            "      BatchNorm2d-48            [-1, 512, 4, 4]           1,024\n",
            "          Dropout-49            [-1, 512, 4, 4]               0\n",
            "    ResidualBlock-50            [-1, 512, 4, 4]               0\n",
            "           Linear-51                 [-1, 1024]       8,389,632\n",
            "          Dropout-52                 [-1, 1024]               0\n",
            "      BatchNorm1d-53                 [-1, 1024]           2,048\n",
            "             ReLU-54                 [-1, 1024]               0\n",
            "           Linear-55                  [-1, 512]         524,800\n",
            "          Dropout-56                  [-1, 512]               0\n",
            "      BatchNorm1d-57                  [-1, 512]           1,024\n",
            "             ReLU-58                  [-1, 512]               0\n",
            "           Linear-59                  [-1, 100]          51,300\n",
            "================================================================\n",
            "Total params: 19,989,668\n",
            "Trainable params: 19,989,668\n",
            "Non-trainable params: 0\n",
            "----------------------------------------------------------------\n",
            "Input size (MB): 0.01\n",
            "Forward/backward pass size (MB): 8.05\n",
            "Params size (MB): 76.25\n",
            "Estimated Total Size (MB): 84.31\n",
            "----------------------------------------------------------------\n"
          ]
        }
      ]
    },
    {
      "cell_type": "code",
      "source": [
        "\n",
        "########################################################################\n",
        "# 3. Define a Loss function and optimizer\n",
        "# ^^^^^^^^^^^^^^^^^^^^^^^^^^^^^^^^^^^^^^^\n",
        "# Here we use Cross-Entropy loss and SGD with momentum.\n",
        "# The CrossEntropyLoss criterion already includes softmax within its\n",
        "# implementation. That's why we don't use a softmax in our model\n",
        "# definition.\n",
        "\n",
        "\n",
        "import torch.optim as optim\n",
        "from torch.optim.lr_scheduler import MultiStepLR as MultiStepLR\n",
        "\n",
        "criterion = nn.CrossEntropyLoss()\n",
        "\n",
        "# Tune the learning rate.\n",
        "# See whether the momentum is useful or not\n",
        "# optimizer = optim.Adam(net.parameters(), lr=0.001, weight_decay=0.0005)\n",
        "\n",
        "# # 4. Use ReduceLROnPlateau scheduler\n",
        "# scheduler = torch.optim.lr_scheduler.ReduceLROnPlateau(optimizer, 'min', patience=10, factor=0.1, verbose=True)\n",
        "\n",
        "optimizer = optim.SGD(net.parameters(), lr=0.06, momentum=0.9, weight_decay=5e-4)\n",
        "scheduler = optim.lr_scheduler.CosineAnnealingLR(optimizer, T_max=EPOCHS)\n",
        "\n",
        "\n",
        "\n",
        "plt.ioff()\n",
        "fig = plt.figure()\n",
        "train_loss_over_epochs = []\n",
        "val_accuracy_over_epochs = []"
      ],
      "metadata": {
        "id": "_3utjRFEuGfX"
      },
      "execution_count": 18,
      "outputs": []
    },
    {
      "cell_type": "code",
      "source": [
        "########################################################################\n",
        "# 4. Train the network\n",
        "# ^^^^^^^^^^^^^^^^^^^^\n",
        "#\n",
        "# We simply have to loop over our data iterator, and feed the inputs to the\n",
        "# network and optimize. We evaluate the validation accuracy at each\n",
        "# epoch and plot these values over the number of epochs\n",
        "# Nothing to change here\n",
        "# -----------------------------\n",
        "for epoch in range(EPOCHS):  # loop over the dataset multiple times\n",
        "\n",
        "    running_loss = 0.0\n",
        "    for i, data in enumerate(trainloader, 0):\n",
        "        # get the inputs\n",
        "        inputs, labels = data\n",
        "\n",
        "        if IS_GPU:\n",
        "            inputs = inputs.cuda()\n",
        "            labels = labels.cuda()\n",
        "\n",
        "        # wrap them in Variable\n",
        "        inputs, labels = Variable(inputs), Variable(labels)\n",
        "\n",
        "        # zero the parameter gradients\n",
        "        optimizer.zero_grad()\n",
        "\n",
        "        # forward + backward + optimize\n",
        "        outputs = net(inputs)\n",
        "\n",
        "        labels = labels.long()\n",
        "        loss = criterion(outputs, labels)\n",
        "        loss.backward()\n",
        "        optimizer.step()\n",
        "\n",
        "        # print statistics\n",
        "        running_loss += loss.item()\n",
        "\n",
        "    # Normalizing the loss by the total number of train batches\n",
        "    running_loss/=len(trainloader)\n",
        "    print('[%d] loss: %.3f' %\n",
        "          (epoch + 1, running_loss))\n",
        "\n",
        "    # Scale of 0.0 to 100.0\n",
        "    # Calculate validation set accuracy of the existing model\n",
        "    val_accuracy, val_classwise_accuracy = \\\n",
        "        calculate_val_accuracy(valloader, IS_GPU)\n",
        "    print('Accuracy of the network on the val images: %d %%' % (val_accuracy))\n",
        "\n",
        "    # # Optionally print classwise accuracies\n",
        "    # for c_i in range(TOTAL_CLASSES):\n",
        "    #     print('Accuracy of %5s : %2d %%' % (\n",
        "    #         classes[c_i], 100 * val_classwise_accuracy[c_i]))\n",
        "\n",
        "    train_loss_over_epochs.append(running_loss)\n",
        "    val_accuracy_over_epochs.append(val_accuracy)\n",
        "    scheduler.step()\n",
        "# -----------------------------\n",
        "\n",
        "\n",
        "# Plot train loss over epochs and val set accuracy over epochs\n",
        "# Nothing to change here\n",
        "# -------------\n",
        "plt.subplot(2, 1, 1)\n",
        "plt.ylabel('Train loss')\n",
        "plt.plot(np.arange(EPOCHS), train_loss_over_epochs, 'k-')\n",
        "plt.title('train loss and val accuracy')\n",
        "plt.xticks(np.arange(EPOCHS, dtype=int))\n",
        "plt.grid(True)\n",
        "\n",
        "plt.subplot(2, 1, 2)\n",
        "# The line added for a bug fix.\n",
        "val_accuracy_over_epochs = torch.tensor(val_accuracy_over_epochs, device = 'cpu')\n",
        "\n",
        "plt.plot(np.arange(EPOCHS), val_accuracy_over_epochs, 'b-')\n",
        "plt.ylabel('Val accuracy')\n",
        "plt.xlabel('Epochs')\n",
        "plt.xticks(np.arange(EPOCHS, dtype=int))\n",
        "plt.grid(True)\n",
        "plt.savefig(\"plot.png\")\n",
        "plt.close(fig)\n",
        "print('Finished Training')\n",
        "# -------------"
      ],
      "metadata": {
        "id": "VqfIHkNxukjb",
        "colab": {
          "base_uri": "https://localhost:8080/"
        },
        "outputId": "6088e0fe-cff9-4a87-8430-d0068d265346"
      },
      "execution_count": 19,
      "outputs": [
        {
          "output_type": "stream",
          "name": "stdout",
          "text": [
            "[1] loss: 4.081\n",
            "Accuracy of the network on the val images: 14 %\n",
            "[2] loss: 3.514\n",
            "Accuracy of the network on the val images: 20 %\n",
            "[3] loss: 3.230\n",
            "Accuracy of the network on the val images: 27 %\n",
            "[4] loss: 2.975\n",
            "Accuracy of the network on the val images: 31 %\n",
            "[5] loss: 2.747\n",
            "Accuracy of the network on the val images: 36 %\n",
            "[6] loss: 2.573\n",
            "Accuracy of the network on the val images: 38 %\n",
            "[7] loss: 2.443\n",
            "Accuracy of the network on the val images: 40 %\n",
            "[8] loss: 2.351\n",
            "Accuracy of the network on the val images: 42 %\n",
            "[9] loss: 2.283\n",
            "Accuracy of the network on the val images: 42 %\n",
            "[10] loss: 2.225\n",
            "Accuracy of the network on the val images: 43 %\n",
            "[11] loss: 2.179\n",
            "Accuracy of the network on the val images: 47 %\n",
            "[12] loss: 2.148\n",
            "Accuracy of the network on the val images: 44 %\n",
            "[13] loss: 2.123\n",
            "Accuracy of the network on the val images: 45 %\n",
            "[14] loss: 2.092\n",
            "Accuracy of the network on the val images: 46 %\n",
            "[15] loss: 2.074\n",
            "Accuracy of the network on the val images: 47 %\n",
            "[16] loss: 2.055\n",
            "Accuracy of the network on the val images: 48 %\n",
            "[17] loss: 2.028\n",
            "Accuracy of the network on the val images: 47 %\n",
            "[18] loss: 2.022\n",
            "Accuracy of the network on the val images: 49 %\n",
            "[19] loss: 2.006\n",
            "Accuracy of the network on the val images: 47 %\n",
            "[20] loss: 1.991\n",
            "Accuracy of the network on the val images: 49 %\n",
            "[21] loss: 1.982\n",
            "Accuracy of the network on the val images: 48 %\n",
            "[22] loss: 1.974\n",
            "Accuracy of the network on the val images: 50 %\n",
            "[23] loss: 1.977\n",
            "Accuracy of the network on the val images: 47 %\n",
            "[24] loss: 1.955\n",
            "Accuracy of the network on the val images: 48 %\n",
            "[25] loss: 1.949\n",
            "Accuracy of the network on the val images: 48 %\n",
            "[26] loss: 1.945\n",
            "Accuracy of the network on the val images: 49 %\n",
            "[27] loss: 1.927\n",
            "Accuracy of the network on the val images: 50 %\n",
            "[28] loss: 1.927\n",
            "Accuracy of the network on the val images: 50 %\n",
            "[29] loss: 1.908\n",
            "Accuracy of the network on the val images: 50 %\n",
            "[30] loss: 1.904\n",
            "Accuracy of the network on the val images: 52 %\n",
            "[31] loss: 1.901\n",
            "Accuracy of the network on the val images: 50 %\n",
            "[32] loss: 1.895\n",
            "Accuracy of the network on the val images: 51 %\n",
            "[33] loss: 1.892\n",
            "Accuracy of the network on the val images: 52 %\n",
            "[34] loss: 1.878\n",
            "Accuracy of the network on the val images: 50 %\n",
            "[35] loss: 1.880\n",
            "Accuracy of the network on the val images: 51 %\n",
            "[36] loss: 1.859\n",
            "Accuracy of the network on the val images: 52 %\n",
            "[37] loss: 1.866\n",
            "Accuracy of the network on the val images: 50 %\n",
            "[38] loss: 1.863\n",
            "Accuracy of the network on the val images: 54 %\n",
            "[39] loss: 1.848\n",
            "Accuracy of the network on the val images: 52 %\n",
            "[40] loss: 1.843\n",
            "Accuracy of the network on the val images: 51 %\n",
            "[41] loss: 1.847\n",
            "Accuracy of the network on the val images: 52 %\n",
            "[42] loss: 1.830\n",
            "Accuracy of the network on the val images: 52 %\n",
            "[43] loss: 1.820\n",
            "Accuracy of the network on the val images: 52 %\n",
            "[44] loss: 1.822\n",
            "Accuracy of the network on the val images: 51 %\n",
            "[45] loss: 1.811\n",
            "Accuracy of the network on the val images: 51 %\n",
            "[46] loss: 1.805\n",
            "Accuracy of the network on the val images: 53 %\n",
            "[47] loss: 1.800\n",
            "Accuracy of the network on the val images: 52 %\n",
            "[48] loss: 1.795\n",
            "Accuracy of the network on the val images: 53 %\n",
            "[49] loss: 1.786\n",
            "Accuracy of the network on the val images: 52 %\n",
            "[50] loss: 1.797\n",
            "Accuracy of the network on the val images: 51 %\n",
            "[51] loss: 1.779\n",
            "Accuracy of the network on the val images: 50 %\n",
            "[52] loss: 1.770\n",
            "Accuracy of the network on the val images: 52 %\n",
            "[53] loss: 1.763\n",
            "Accuracy of the network on the val images: 51 %\n",
            "[54] loss: 1.751\n",
            "Accuracy of the network on the val images: 52 %\n",
            "[55] loss: 1.747\n",
            "Accuracy of the network on the val images: 55 %\n",
            "[56] loss: 1.745\n",
            "Accuracy of the network on the val images: 54 %\n",
            "[57] loss: 1.743\n",
            "Accuracy of the network on the val images: 53 %\n",
            "[58] loss: 1.734\n",
            "Accuracy of the network on the val images: 54 %\n",
            "[59] loss: 1.721\n",
            "Accuracy of the network on the val images: 53 %\n",
            "[60] loss: 1.710\n",
            "Accuracy of the network on the val images: 52 %\n",
            "[61] loss: 1.713\n",
            "Accuracy of the network on the val images: 54 %\n",
            "[62] loss: 1.708\n",
            "Accuracy of the network on the val images: 55 %\n",
            "[63] loss: 1.693\n",
            "Accuracy of the network on the val images: 55 %\n",
            "[64] loss: 1.687\n",
            "Accuracy of the network on the val images: 55 %\n",
            "[65] loss: 1.684\n",
            "Accuracy of the network on the val images: 53 %\n",
            "[66] loss: 1.667\n",
            "Accuracy of the network on the val images: 55 %\n",
            "[67] loss: 1.665\n",
            "Accuracy of the network on the val images: 54 %\n",
            "[68] loss: 1.660\n",
            "Accuracy of the network on the val images: 54 %\n",
            "[69] loss: 1.660\n",
            "Accuracy of the network on the val images: 55 %\n",
            "[70] loss: 1.641\n",
            "Accuracy of the network on the val images: 56 %\n",
            "[71] loss: 1.638\n",
            "Accuracy of the network on the val images: 54 %\n",
            "[72] loss: 1.625\n",
            "Accuracy of the network on the val images: 54 %\n",
            "[73] loss: 1.628\n",
            "Accuracy of the network on the val images: 56 %\n",
            "[74] loss: 1.611\n",
            "Accuracy of the network on the val images: 55 %\n",
            "[75] loss: 1.610\n",
            "Accuracy of the network on the val images: 54 %\n",
            "[76] loss: 1.594\n",
            "Accuracy of the network on the val images: 56 %\n",
            "[77] loss: 1.593\n",
            "Accuracy of the network on the val images: 56 %\n",
            "[78] loss: 1.583\n",
            "Accuracy of the network on the val images: 56 %\n",
            "[79] loss: 1.566\n",
            "Accuracy of the network on the val images: 56 %\n",
            "[80] loss: 1.562\n",
            "Accuracy of the network on the val images: 57 %\n",
            "[81] loss: 1.551\n",
            "Accuracy of the network on the val images: 56 %\n",
            "[82] loss: 1.549\n",
            "Accuracy of the network on the val images: 56 %\n",
            "[83] loss: 1.527\n",
            "Accuracy of the network on the val images: 57 %\n",
            "[84] loss: 1.527\n",
            "Accuracy of the network on the val images: 57 %\n",
            "[85] loss: 1.515\n",
            "Accuracy of the network on the val images: 57 %\n",
            "[86] loss: 1.510\n",
            "Accuracy of the network on the val images: 58 %\n",
            "[87] loss: 1.497\n",
            "Accuracy of the network on the val images: 56 %\n",
            "[88] loss: 1.485\n",
            "Accuracy of the network on the val images: 58 %\n",
            "[89] loss: 1.463\n",
            "Accuracy of the network on the val images: 57 %\n",
            "[90] loss: 1.470\n",
            "Accuracy of the network on the val images: 58 %\n",
            "[91] loss: 1.452\n",
            "Accuracy of the network on the val images: 57 %\n",
            "[92] loss: 1.448\n",
            "Accuracy of the network on the val images: 57 %\n",
            "[93] loss: 1.428\n",
            "Accuracy of the network on the val images: 59 %\n",
            "[94] loss: 1.417\n",
            "Accuracy of the network on the val images: 59 %\n",
            "[95] loss: 1.415\n",
            "Accuracy of the network on the val images: 58 %\n",
            "[96] loss: 1.405\n",
            "Accuracy of the network on the val images: 58 %\n",
            "[97] loss: 1.379\n",
            "Accuracy of the network on the val images: 59 %\n",
            "[98] loss: 1.377\n",
            "Accuracy of the network on the val images: 58 %\n",
            "[99] loss: 1.367\n",
            "Accuracy of the network on the val images: 59 %\n",
            "[100] loss: 1.362\n",
            "Accuracy of the network on the val images: 59 %\n",
            "[101] loss: 1.335\n",
            "Accuracy of the network on the val images: 59 %\n",
            "[102] loss: 1.336\n",
            "Accuracy of the network on the val images: 58 %\n",
            "[103] loss: 1.311\n",
            "Accuracy of the network on the val images: 60 %\n",
            "[104] loss: 1.311\n",
            "Accuracy of the network on the val images: 60 %\n",
            "[105] loss: 1.295\n",
            "Accuracy of the network on the val images: 60 %\n",
            "[106] loss: 1.282\n",
            "Accuracy of the network on the val images: 61 %\n",
            "[107] loss: 1.276\n",
            "Accuracy of the network on the val images: 59 %\n",
            "[108] loss: 1.259\n",
            "Accuracy of the network on the val images: 60 %\n",
            "[109] loss: 1.243\n",
            "Accuracy of the network on the val images: 60 %\n",
            "[110] loss: 1.231\n",
            "Accuracy of the network on the val images: 60 %\n",
            "[111] loss: 1.220\n",
            "Accuracy of the network on the val images: 62 %\n",
            "[112] loss: 1.203\n",
            "Accuracy of the network on the val images: 61 %\n",
            "[113] loss: 1.191\n",
            "Accuracy of the network on the val images: 62 %\n",
            "[114] loss: 1.172\n",
            "Accuracy of the network on the val images: 63 %\n",
            "[115] loss: 1.165\n",
            "Accuracy of the network on the val images: 61 %\n",
            "[116] loss: 1.144\n",
            "Accuracy of the network on the val images: 63 %\n",
            "[117] loss: 1.142\n",
            "Accuracy of the network on the val images: 62 %\n",
            "[118] loss: 1.120\n",
            "Accuracy of the network on the val images: 63 %\n",
            "[119] loss: 1.095\n",
            "Accuracy of the network on the val images: 61 %\n",
            "[120] loss: 1.089\n",
            "Accuracy of the network on the val images: 63 %\n",
            "[121] loss: 1.070\n",
            "Accuracy of the network on the val images: 63 %\n",
            "[122] loss: 1.065\n",
            "Accuracy of the network on the val images: 62 %\n",
            "[123] loss: 1.037\n",
            "Accuracy of the network on the val images: 62 %\n",
            "[124] loss: 1.028\n",
            "Accuracy of the network on the val images: 63 %\n",
            "[125] loss: 1.013\n",
            "Accuracy of the network on the val images: 62 %\n",
            "[126] loss: 0.990\n",
            "Accuracy of the network on the val images: 63 %\n",
            "[127] loss: 0.975\n",
            "Accuracy of the network on the val images: 64 %\n",
            "[128] loss: 0.959\n",
            "Accuracy of the network on the val images: 63 %\n",
            "[129] loss: 0.945\n",
            "Accuracy of the network on the val images: 63 %\n",
            "[130] loss: 0.921\n",
            "Accuracy of the network on the val images: 65 %\n",
            "[131] loss: 0.899\n",
            "Accuracy of the network on the val images: 63 %\n",
            "[132] loss: 0.886\n",
            "Accuracy of the network on the val images: 64 %\n",
            "[133] loss: 0.859\n",
            "Accuracy of the network on the val images: 64 %\n",
            "[134] loss: 0.850\n",
            "Accuracy of the network on the val images: 65 %\n",
            "[135] loss: 0.833\n",
            "Accuracy of the network on the val images: 63 %\n",
            "[136] loss: 0.818\n",
            "Accuracy of the network on the val images: 64 %\n",
            "[137] loss: 0.792\n",
            "Accuracy of the network on the val images: 65 %\n",
            "[138] loss: 0.766\n",
            "Accuracy of the network on the val images: 66 %\n",
            "[139] loss: 0.758\n",
            "Accuracy of the network on the val images: 65 %\n",
            "[140] loss: 0.730\n",
            "Accuracy of the network on the val images: 66 %\n",
            "[141] loss: 0.707\n",
            "Accuracy of the network on the val images: 66 %\n",
            "[142] loss: 0.686\n",
            "Accuracy of the network on the val images: 66 %\n",
            "[143] loss: 0.663\n",
            "Accuracy of the network on the val images: 65 %\n",
            "[144] loss: 0.651\n",
            "Accuracy of the network on the val images: 66 %\n",
            "[145] loss: 0.623\n",
            "Accuracy of the network on the val images: 65 %\n",
            "[146] loss: 0.608\n",
            "Accuracy of the network on the val images: 66 %\n",
            "[147] loss: 0.584\n",
            "Accuracy of the network on the val images: 66 %\n",
            "[148] loss: 0.560\n",
            "Accuracy of the network on the val images: 66 %\n",
            "[149] loss: 0.543\n",
            "Accuracy of the network on the val images: 67 %\n",
            "[150] loss: 0.519\n",
            "Accuracy of the network on the val images: 67 %\n",
            "[151] loss: 0.496\n",
            "Accuracy of the network on the val images: 67 %\n",
            "[152] loss: 0.474\n",
            "Accuracy of the network on the val images: 67 %\n",
            "[153] loss: 0.449\n",
            "Accuracy of the network on the val images: 68 %\n",
            "[154] loss: 0.423\n",
            "Accuracy of the network on the val images: 68 %\n",
            "[155] loss: 0.407\n",
            "Accuracy of the network on the val images: 68 %\n",
            "[156] loss: 0.382\n",
            "Accuracy of the network on the val images: 69 %\n",
            "[157] loss: 0.356\n",
            "Accuracy of the network on the val images: 68 %\n",
            "[158] loss: 0.340\n",
            "Accuracy of the network on the val images: 69 %\n",
            "[159] loss: 0.325\n",
            "Accuracy of the network on the val images: 69 %\n",
            "[160] loss: 0.305\n",
            "Accuracy of the network on the val images: 69 %\n",
            "[161] loss: 0.276\n",
            "Accuracy of the network on the val images: 68 %\n",
            "[162] loss: 0.254\n",
            "Accuracy of the network on the val images: 68 %\n",
            "[163] loss: 0.241\n",
            "Accuracy of the network on the val images: 69 %\n",
            "[164] loss: 0.210\n",
            "Accuracy of the network on the val images: 70 %\n",
            "[165] loss: 0.197\n",
            "Accuracy of the network on the val images: 70 %\n",
            "[166] loss: 0.176\n",
            "Accuracy of the network on the val images: 70 %\n",
            "[167] loss: 0.159\n",
            "Accuracy of the network on the val images: 70 %\n",
            "[168] loss: 0.148\n",
            "Accuracy of the network on the val images: 70 %\n",
            "[169] loss: 0.131\n",
            "Accuracy of the network on the val images: 71 %\n",
            "[170] loss: 0.112\n",
            "Accuracy of the network on the val images: 71 %\n",
            "[171] loss: 0.098\n",
            "Accuracy of the network on the val images: 71 %\n",
            "[172] loss: 0.090\n",
            "Accuracy of the network on the val images: 71 %\n",
            "[173] loss: 0.077\n",
            "Accuracy of the network on the val images: 71 %\n",
            "[174] loss: 0.068\n",
            "Accuracy of the network on the val images: 72 %\n",
            "[175] loss: 0.063\n",
            "Accuracy of the network on the val images: 72 %\n",
            "[176] loss: 0.055\n",
            "Accuracy of the network on the val images: 72 %\n",
            "[177] loss: 0.046\n",
            "Accuracy of the network on the val images: 73 %\n",
            "[178] loss: 0.043\n",
            "Accuracy of the network on the val images: 72 %\n",
            "[179] loss: 0.038\n",
            "Accuracy of the network on the val images: 73 %\n",
            "[180] loss: 0.033\n",
            "Accuracy of the network on the val images: 73 %\n",
            "[181] loss: 0.031\n",
            "Accuracy of the network on the val images: 73 %\n",
            "[182] loss: 0.028\n",
            "Accuracy of the network on the val images: 74 %\n",
            "[183] loss: 0.026\n",
            "Accuracy of the network on the val images: 74 %\n",
            "[184] loss: 0.024\n",
            "Accuracy of the network on the val images: 74 %\n",
            "[185] loss: 0.022\n",
            "Accuracy of the network on the val images: 74 %\n",
            "[186] loss: 0.021\n",
            "Accuracy of the network on the val images: 74 %\n",
            "[187] loss: 0.021\n",
            "Accuracy of the network on the val images: 74 %\n",
            "[188] loss: 0.019\n",
            "Accuracy of the network on the val images: 74 %\n",
            "[189] loss: 0.018\n",
            "Accuracy of the network on the val images: 75 %\n",
            "[190] loss: 0.018\n",
            "Accuracy of the network on the val images: 74 %\n",
            "[191] loss: 0.017\n",
            "Accuracy of the network on the val images: 75 %\n",
            "[192] loss: 0.017\n",
            "Accuracy of the network on the val images: 74 %\n",
            "[193] loss: 0.017\n",
            "Accuracy of the network on the val images: 74 %\n",
            "[194] loss: 0.017\n",
            "Accuracy of the network on the val images: 74 %\n",
            "[195] loss: 0.016\n",
            "Accuracy of the network on the val images: 74 %\n",
            "[196] loss: 0.015\n",
            "Accuracy of the network on the val images: 75 %\n",
            "[197] loss: 0.016\n",
            "Accuracy of the network on the val images: 74 %\n",
            "[198] loss: 0.016\n",
            "Accuracy of the network on the val images: 74 %\n",
            "[199] loss: 0.015\n",
            "Accuracy of the network on the val images: 74 %\n",
            "[200] loss: 0.016\n",
            "Accuracy of the network on the val images: 74 %\n",
            "Finished Training\n"
          ]
        }
      ]
    },
    {
      "cell_type": "code",
      "source": [
        "\n",
        "########################################################################\n",
        "# 5. Try the network on test data, and create .csv file\n",
        "# ^^^^^^^^^^^^^^^^^^^^^^^^^^^^^^^^^^^^^^^^^^^^^^^^^^^^^\n",
        "########################################################################\n",
        "\n",
        "# Check out why .eval() is important!\n",
        "# https://discuss.pytorch.org/t/model-train-and-model-eval-vs-model-and-model-eval/5744/2\n",
        "net.eval()\n",
        "\n",
        "total = 0\n",
        "predictions = []\n",
        "for data in testloader:\n",
        "    images, labels = data\n",
        "\n",
        "    # For training on GPU, we need to transfer net and data onto the GPU\n",
        "    # http://pytorch.org/tutorials/beginner/blitz/cifar10_tutorial.html#training-on-gpu\n",
        "    if IS_GPU:\n",
        "        images = images.cuda()\n",
        "        labels = labels.cuda()\n",
        "\n",
        "    outputs = net(Variable(images))\n",
        "    _, predicted = torch.max(outputs.data, 1)\n",
        "    predictions.extend(list(predicted.cpu().numpy()))\n",
        "    total += labels.size(0)\n",
        "\n",
        "with open('submission_netid.csv', 'w') as csvfile:\n",
        "    wr = csv.writer(csvfile, quoting=csv.QUOTE_ALL)\n",
        "    wr.writerow([\"Id\", \"Prediction1\"])\n",
        "    for l_i, label in enumerate(predictions):\n",
        "        wr.writerow([str(l_i), str(label)])"
      ],
      "metadata": {
        "id": "_Qh25Nqwu3zI"
      },
      "execution_count": 20,
      "outputs": []
    },
    {
      "cell_type": "markdown",
      "metadata": {
        "id": "og2F2MLhs7L6"
      },
      "source": [
        "# Part 2"
      ]
    },
    {
      "cell_type": "code",
      "execution_count": 21,
      "metadata": {
        "id": "prD0eXGpdoCR"
      },
      "outputs": [],
      "source": [
        "\"\"\"Headers\"\"\"\n",
        "import os\n",
        "import os.path as osp\n",
        "import time\n",
        "\n",
        "%matplotlib inline\n",
        "import matplotlib.pyplot as plt\n",
        "\n",
        "import torch\n",
        "import torch.nn as nn\n",
        "import torchvision.models as models\n",
        "import torch.optim as optim\n",
        "import numpy as np\n",
        "\n",
        "from torchvision import datasets\n",
        "import torchvision\n",
        "import torchvision.transforms as transforms"
      ]
    },
    {
      "cell_type": "markdown",
      "metadata": {
        "id": "P6CJz7OM0J9Z"
      },
      "source": [
        "# Pre-Trained Model\n",
        "\n",
        "TODO1. Load pretrained resnet model. Experiment with different models.\n",
        "\n",
        "TODO2: Replace last fc layer\n",
        "\n",
        "TODO3. Forward pass"
      ]
    },
    {
      "cell_type": "code",
      "execution_count": 22,
      "metadata": {
        "id": "HUdo6AkH0maX"
      },
      "outputs": [],
      "source": [
        "class PreTrainedResNet(nn.Module):\n",
        "  def __init__(self, num_classes, feature_extracting):\n",
        "    super(PreTrainedResNet, self).__init__()\n",
        "\n",
        "    #TODO1: Load pre-trained ResNet Model\n",
        "    self.resnet18 = models.resnet18(pretrained = True)\n",
        "\n",
        "    #Set gradients to false\n",
        "    if feature_extracting:\n",
        "      for param in self.resnet18.parameters():\n",
        "          param.requires_grad = False\n",
        "\n",
        "    #Replace last fc layer\n",
        "    num_feats = self.resnet18.fc.in_features\n",
        "\n",
        "    #TODO2: Replace fc layer in resnet to a linear layer of size (num_feats, num_classes)\n",
        "    self.resnet18.fc = nn.Sequential(\n",
        "        nn.Linear(num_feats, num_classes))\n",
        "\n",
        "  def forward(self, x):\n",
        "    #TODO3: Forward pass x through the model\n",
        "    x = self.resnet18(x)\n",
        "    return x"
      ]
    },
    {
      "cell_type": "markdown",
      "metadata": {
        "id": "Y_DRbNt8Jask"
      },
      "source": [
        "# Train"
      ]
    },
    {
      "cell_type": "code",
      "execution_count": 23,
      "metadata": {
        "id": "ujUNEVsEvWwv"
      },
      "outputs": [],
      "source": [
        "def train(model, optimizer, criterion, epoch, num_epochs):\n",
        "  model.train()\n",
        "  epoch_loss = 0.0\n",
        "  epoch_acc = 0.0\n",
        "\n",
        "  for batch_idx, (images, labels) in enumerate(dataloaders['train']):\n",
        "    #zero the parameter gradients\n",
        "    optimizer.zero_grad()\n",
        "\n",
        "    #move to GPU\n",
        "    images, labels = images.cuda(), labels.cuda()\n",
        "\n",
        "    #forward\n",
        "    outputs = model.forward(images)\n",
        "\n",
        "    loss = criterion(outputs, labels)\n",
        "\n",
        "    _, preds = torch.max(outputs.data, 1)\n",
        "\n",
        "    loss.backward()\n",
        "    optimizer.step()\n",
        "\n",
        "    epoch_loss += loss.item()\n",
        "    epoch_acc += torch.sum(preds == labels).item()\n",
        "\n",
        "  epoch_loss /= dataset_sizes['train']\n",
        "  epoch_acc /= dataset_sizes['train']\n",
        "\n",
        "  print('TRAINING Epoch %d/%d Loss %.4f Accuracy %.4f' % (epoch, num_epochs, epoch_loss, epoch_acc))"
      ]
    },
    {
      "cell_type": "markdown",
      "metadata": {
        "id": "mAbNgE4r7vm-"
      },
      "source": [
        "# Main\n",
        "\n",
        "1. Vary hyperparams\n",
        "2. Data augmentation"
      ]
    },
    {
      "cell_type": "code",
      "execution_count": 33,
      "metadata": {
        "id": "oZkI3scVWjOQ",
        "colab": {
          "base_uri": "https://localhost:8080/"
        },
        "outputId": "f4b8b43b-883f-490d-fb9c-b33ed8f64703"
      },
      "outputs": [
        {
          "output_type": "stream",
          "name": "stdout",
          "text": [
            "TRAINING Epoch 1/40 Loss 0.6426 Accuracy 0.0260\n",
            "TRAINING Epoch 2/40 Loss 0.5111 Accuracy 0.1333\n",
            "TRAINING Epoch 3/40 Loss 0.4244 Accuracy 0.2590\n",
            "TRAINING Epoch 4/40 Loss 0.3639 Accuracy 0.3710\n",
            "TRAINING Epoch 5/40 Loss 0.3192 Accuracy 0.4453\n",
            "TRAINING Epoch 6/40 Loss 0.2807 Accuracy 0.5017\n",
            "TRAINING Epoch 7/40 Loss 0.2516 Accuracy 0.5493\n",
            "TRAINING Epoch 8/40 Loss 0.2313 Accuracy 0.5860\n",
            "TRAINING Epoch 9/40 Loss 0.2139 Accuracy 0.6270\n",
            "TRAINING Epoch 10/40 Loss 0.1960 Accuracy 0.6643\n",
            "TRAINING Epoch 11/40 Loss 0.1915 Accuracy 0.6603\n",
            "TRAINING Epoch 12/40 Loss 0.1771 Accuracy 0.6797\n",
            "TRAINING Epoch 13/40 Loss 0.1664 Accuracy 0.7157\n",
            "TRAINING Epoch 14/40 Loss 0.1422 Accuracy 0.7647\n",
            "TRAINING Epoch 15/40 Loss 0.1359 Accuracy 0.7810\n",
            "TRAINING Epoch 16/40 Loss 0.1349 Accuracy 0.7903\n",
            "TRAINING Epoch 17/40 Loss 0.1244 Accuracy 0.8100\n",
            "TRAINING Epoch 18/40 Loss 0.1323 Accuracy 0.7910\n",
            "TRAINING Epoch 19/40 Loss 0.1293 Accuracy 0.7937\n",
            "TRAINING Epoch 20/40 Loss 0.1240 Accuracy 0.8030\n",
            "TRAINING Epoch 21/40 Loss 0.1234 Accuracy 0.8077\n",
            "TRAINING Epoch 22/40 Loss 0.1189 Accuracy 0.8163\n",
            "TRAINING Epoch 23/40 Loss 0.1206 Accuracy 0.8163\n",
            "TRAINING Epoch 24/40 Loss 0.1216 Accuracy 0.8203\n",
            "TRAINING Epoch 25/40 Loss 0.1158 Accuracy 0.8250\n",
            "TRAINING Epoch 26/40 Loss 0.1206 Accuracy 0.8187\n",
            "TRAINING Epoch 27/40 Loss 0.1155 Accuracy 0.8340\n",
            "TRAINING Epoch 28/40 Loss 0.1188 Accuracy 0.8203\n",
            "TRAINING Epoch 29/40 Loss 0.1178 Accuracy 0.8243\n",
            "TRAINING Epoch 30/40 Loss 0.1182 Accuracy 0.8153\n",
            "TRAINING Epoch 31/40 Loss 0.1140 Accuracy 0.8283\n",
            "TRAINING Epoch 32/40 Loss 0.1222 Accuracy 0.8090\n",
            "TRAINING Epoch 33/40 Loss 0.1205 Accuracy 0.8147\n",
            "TRAINING Epoch 34/40 Loss 0.1212 Accuracy 0.8097\n",
            "TRAINING Epoch 35/40 Loss 0.1221 Accuracy 0.8117\n",
            "TRAINING Epoch 36/40 Loss 0.1207 Accuracy 0.8120\n",
            "TRAINING Epoch 37/40 Loss 0.1203 Accuracy 0.8180\n",
            "TRAINING Epoch 38/40 Loss 0.1176 Accuracy 0.8147\n",
            "TRAINING Epoch 39/40 Loss 0.1151 Accuracy 0.8317\n",
            "TRAINING Epoch 40/40 Loss 0.1181 Accuracy 0.8223\n",
            "Finished Training\n",
            "----------\n"
          ]
        }
      ],
      "source": [
        "#TODO: Vary Hyperparams\n",
        "\n",
        "NUM_EPOCHS = 40\n",
        "LEARNING_RATE = 0.001\n",
        "BATCH_SIZE = 8\n",
        "RESNET_LAST_ONLY = False #Fine tunes only the last layer. Set to False to fine tune entire network\n",
        "\n",
        "root_path = '/data/' #If your data is in a different folder, set the path accodordingly\n",
        "\n",
        "data_transforms = {\n",
        "    'train': transforms.Compose([\n",
        "        transforms.Resize(256),\n",
        "        # transforms.CenterCrop(224),\n",
        "        transforms.RandomResizedCrop(224),\n",
        "        transforms.RandomHorizontalFlip(),\n",
        "        #TODO: Transforms.RandomResizedCrop() instead of CenterCrop(), RandomRoate() and Horizontal Flip()\n",
        "        transforms.ToTensor(),\n",
        "        #TODO: Transforms.Normalize()\n",
        "        transforms.Normalize((0,0,0), (1,1,1)),\n",
        "    ]),\n",
        "    'test': transforms.Compose([\n",
        "        transforms.Resize(256),\n",
        "        transforms.CenterCrop(224),\n",
        "        transforms.ToTensor(),\n",
        "        #TODO: Transforms.Normalize()\n",
        "        transforms.Normalize((0,0,0), (1,1,1)),\n",
        "    ]),\n",
        "}\n",
        "\n",
        "# loading datasets with PyTorch ImageFolder\n",
        "image_datasets = {x: datasets.ImageFolder(os.path.join(root_path, x),\n",
        "                                          data_transforms[x])\n",
        "                  for x in ['train', 'test']}\n",
        "\n",
        "# defining data loaders to load data using image_datasets and transforms, here we also specify batch size for the mini batch\n",
        "dataloaders = {x: torch.utils.data.DataLoader(image_datasets[x], batch_size=BATCH_SIZE,\n",
        "                                             shuffle=True, num_workers=4)\n",
        "              for x in ['train', 'test']}\n",
        "\n",
        "dataset_sizes = {x: len(image_datasets[x]) for x in ['train', 'test']}\n",
        "class_names = image_datasets['train'].classes\n",
        "\n",
        "#Initialize the model\n",
        "model = PreTrainedResNet(len(class_names), RESNET_LAST_ONLY)\n",
        "model = model.cuda()\n",
        "\n",
        "#Setting the optimizer and loss criterion\n",
        "optimizer = optim.SGD(model.parameters(), lr=LEARNING_RATE, momentum=0.9)\n",
        "criterion = nn.CrossEntropyLoss()\n",
        "from torch.optim.lr_scheduler import MultiStepLR as MultiStepLR\n",
        "scheduler = MultiStepLR(optimizer, [13,20,30], gamma=0.1)\n",
        "\n",
        "\n",
        "#Begin Train\n",
        "for epoch in range(NUM_EPOCHS):\n",
        "  train(model, optimizer, criterion, epoch+1, NUM_EPOCHS)\n",
        "  scheduler.step()\n",
        "\n",
        "print(\"Finished Training\")\n",
        "print(\"-\"*10)"
      ]
    },
    {
      "cell_type": "markdown",
      "metadata": {
        "id": "DEbsnh3a7ljw"
      },
      "source": [
        "# Test"
      ]
    },
    {
      "cell_type": "code",
      "execution_count": 31,
      "metadata": {
        "id": "4wyYKmQ91woU"
      },
      "outputs": [],
      "source": [
        "def test(model, criterion, repeats=2):\n",
        "  model.eval()\n",
        "\n",
        "  test_loss = 0.0\n",
        "  test_acc = 0.0\n",
        "\n",
        "  with torch.no_grad():\n",
        "    for itr in range(repeats):\n",
        "      for batch_idx, (images, labels) in enumerate(dataloaders['test']):\n",
        "        #move to GPU\n",
        "        images, labels = images.cuda(), labels.cuda()\n",
        "\n",
        "        #forward\n",
        "        outputs = model.forward(images)\n",
        "\n",
        "        loss = criterion(outputs, labels)\n",
        "\n",
        "        _, preds = torch.max(outputs.data, 1)\n",
        "\n",
        "        test_loss += loss.item()\n",
        "        test_acc += torch.sum(preds == labels).item()\n",
        "\n",
        "    test_loss /= (dataset_sizes['test']*repeats)\n",
        "    test_acc /= (dataset_sizes['test']*repeats)\n",
        "\n",
        "    print('Test Loss: %.4f Test Accuracy %.4f' % (test_loss, test_acc))\n"
      ]
    },
    {
      "cell_type": "code",
      "execution_count": 34,
      "metadata": {
        "id": "znXWR6oWyl-B",
        "colab": {
          "base_uri": "https://localhost:8080/"
        },
        "outputId": "388780ae-7287-4ae7-844e-66bc5c48cdf3"
      },
      "outputs": [
        {
          "output_type": "stream",
          "name": "stdout",
          "text": [
            "Test Loss: 0.1888 Test Accuracy 0.6017\n"
          ]
        }
      ],
      "source": [
        "test(model, criterion)"
      ]
    },
    {
      "cell_type": "markdown",
      "metadata": {
        "id": "kNX2g3AYUbM2"
      },
      "source": [
        "# Visualizing the model predictions\n",
        "\n",
        "Only for viusalizing. Nothing to be done here."
      ]
    },
    {
      "cell_type": "code",
      "execution_count": 27,
      "metadata": {
        "id": "Zd_lkTdoUaOX"
      },
      "outputs": [],
      "source": [
        "def imshow(inp, title=None):\n",
        "    \"\"\"Imshow for Tensor.\"\"\"\n",
        "    inp = inp.numpy().transpose((1, 2, 0))\n",
        "    inp = np.clip(inp, 0, 1)\n",
        "    plt.imshow(inp)\n",
        "    if title is not None:\n",
        "        plt.title(title)\n",
        "    plt.pause(1)  # pause a bit so that plots are updated\n",
        "\n",
        "def visualize_model(model, num_images=8):\n",
        "    images_so_far = 0\n",
        "    fig = plt.figure()\n",
        "\n",
        "    for batch_idx, (images, labels) in enumerate(dataloaders['test']):\n",
        "        #move to GPU\n",
        "        images, labels = images.cuda(), labels.cuda()\n",
        "\n",
        "        outputs = model(images)\n",
        "\n",
        "        _, preds = torch.max(outputs.data, 1)\n",
        "\n",
        "\n",
        "        for j in range(images.size()[0]):\n",
        "            images_so_far += 1\n",
        "            ax = plt.subplot(num_images//2, 2, images_so_far)\n",
        "            ax.axis('off')\n",
        "            ax.set_title('class: {} predicted: {}'.format(class_names[labels.data[j]], class_names[preds[j]]))\n",
        "\n",
        "            imshow(images.cpu().data[j])\n",
        "\n",
        "            if images_so_far == num_images:\n",
        "                return"
      ]
    },
    {
      "cell_type": "code",
      "execution_count": 28,
      "metadata": {
        "id": "sxjSnLKOJsTW",
        "colab": {
          "base_uri": "https://localhost:8080/",
          "height": 993
        },
        "outputId": "23d1e2de-6c16-49b7-cb13-7038ea3192a5"
      },
      "outputs": [
        {
          "output_type": "display_data",
          "data": {
            "text/plain": [
              "<Figure size 640x480 with 1 Axes>"
            ],
            "image/png": "[encoded data removed]"
          },
          "metadata": {}
        },
        {
          "output_type": "display_data",
          "data": {
            "text/plain": [
              "<Figure size 640x480 with 1 Axes>"
            ],
            "image/png": "[encoded data removed]"
          },
          "metadata": {}
        },
        {
          "output_type": "display_data",
          "data": {
            "text/plain": [
              "<Figure size 640x480 with 1 Axes>"
            ],
            "image/png": "[encoded data removed]"
          },
          "metadata": {}
        },
        {
          "output_type": "display_data",
          "data": {
            "text/plain": [
              "<Figure size 640x480 with 1 Axes>"
            ],
            "image/png": "[encoded data removed]"
          },
          "metadata": {}
        },
        {
          "output_type": "display_data",
          "data": {
            "text/plain": [
              "<Figure size 640x480 with 1 Axes>"
            ],
            "image/png": "[encoded data removed]"
          },
          "metadata": {}
        },
        {
          "output_type": "display_data",
          "data": {
            "text/plain": [
              "<Figure size 640x480 with 1 Axes>"
            ],
            "image/png": "[encoded data removed]"
          },
          "metadata": {}
        },
        {
          "output_type": "display_data",
          "data": {
            "text/plain": [
              "<Figure size 640x480 with 1 Axes>"
            ],
            "image/png": "[encoded data removed]"
          },
          "metadata": {}
        },
        {
          "output_type": "display_data",
          "data": {
            "text/plain": [
              "<Figure size 640x480 with 1 Axes>"
            ],
            "image/png": "[encoded data removed]"
          },
          "metadata": {}
        }
      ],
      "source": [
        "visualize_model(model)"
      ]
    },
    {
      "cell_type": "code",
      "source": [
        "from google.colab import drive\n",
        "drive.mount('/content/drive')"
      ],
      "metadata": {
        "id": "vf6wwPAVj9Yi",
        "colab": {
          "base_uri": "https://localhost:8080/"
        },
        "outputId": "87062cff-2d3b-488a-b6fc-3b99b013bd21"
      },
      "execution_count": 29,
      "outputs": [
        {
          "output_type": "stream",
          "name": "stdout",
          "text": [
            "Mounted at /content/drive\n"
          ]
        }
      ]
    }
  ],
  "metadata": {
    "accelerator": "GPU",
    "colab": {
      "collapsed_sections": [
        "137GhZMrcTuj"
      ],
      "provenance": [],
      "gpuType": "A100"
    },
    "kernelspec": {
      "display_name": "Python 3",
      "name": "python3"
    }
  },
  "nbformat": 4,
  "nbformat_minor": 0
}